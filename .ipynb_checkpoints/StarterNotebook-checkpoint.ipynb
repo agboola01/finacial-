{
 "cells": [
  {
   "cell_type": "markdown",
   "metadata": {
    "id": "48S6RVt_jXwp"
   },
   "source": [
    "# Financial Inclusion in Africa Starter Notebook\n",
    "\n",
    "\n",
    "This is a simple starter notebook to get started with the Financial Inclusion Competition on Zindi.\n",
    "\n",
    "This notebook covers:\n",
    "- Loading the data\n",
    "- Simple EDA and an example of feature enginnering\n",
    "- Data preprocessing and data wrangling\n",
    "- Creating a simple model\n",
    "- Making a submission\n",
    "- Some tips for improving your score"
   ]
  },
  {
   "cell_type": "markdown",
   "metadata": {
    "id": "HdPjBTFdkI7t"
   },
   "source": [
    "### Importing libraries"
   ]
  },
  {
   "cell_type": "code",
   "execution_count": 1,
   "metadata": {
    "id": "8IWFJK2h22yc"
   },
   "outputs": [
    {
     "ename": "ModuleNotFoundError",
     "evalue": "No module named 'lightgbm'",
     "output_type": "error",
     "traceback": [
      "\u001b[1;31m---------------------------------------------------------------------------\u001b[0m",
      "\u001b[1;31mModuleNotFoundError\u001b[0m                       Traceback (most recent call last)",
      "Input \u001b[1;32mIn [1]\u001b[0m, in \u001b[0;36m<cell line: 8>\u001b[1;34m()\u001b[0m\n\u001b[0;32m      5\u001b[0m \u001b[38;5;28;01mimport\u001b[39;00m \u001b[38;5;21;01mmatplotlib\u001b[39;00m\u001b[38;5;21;01m.\u001b[39;00m\u001b[38;5;21;01mpyplot\u001b[39;00m \u001b[38;5;28;01mas\u001b[39;00m \u001b[38;5;21;01mplt\u001b[39;00m\n\u001b[0;32m      7\u001b[0m \u001b[38;5;66;03m# machine learning\u001b[39;00m\n\u001b[1;32m----> 8\u001b[0m \u001b[38;5;28;01mfrom\u001b[39;00m \u001b[38;5;21;01mlightgbm\u001b[39;00m \u001b[38;5;28;01mimport\u001b[39;00m LGBMClassifier\n\u001b[0;32m      9\u001b[0m \u001b[38;5;28;01mfrom\u001b[39;00m \u001b[38;5;21;01msklearn\u001b[39;00m\u001b[38;5;21;01m.\u001b[39;00m\u001b[38;5;21;01mmodel_selection\u001b[39;00m \u001b[38;5;28;01mimport\u001b[39;00m train_test_split\n\u001b[0;32m     10\u001b[0m \u001b[38;5;28;01mfrom\u001b[39;00m \u001b[38;5;21;01msklearn\u001b[39;00m\u001b[38;5;21;01m.\u001b[39;00m\u001b[38;5;21;01mmetrics\u001b[39;00m \u001b[38;5;28;01mimport\u001b[39;00m accuracy_score\n",
      "\u001b[1;31mModuleNotFoundError\u001b[0m: No module named 'lightgbm'"
     ]
    }
   ],
   "source": [
    "# dataframe and plotting\n",
    "import pandas as pd\n",
    "import numpy as np\n",
    "import seaborn as sns\n",
    "import matplotlib.pyplot as plt\n",
    "\n",
    "# machine learning\n",
    "from lightgbm import LGBMClassifier\n",
    "from sklearn.model_selection import train_test_split\n",
    "from sklearn.metrics import accuracy_score\n",
    "\n",
    "from google.colab import files\n",
    "import warnings\n",
    "warnings.filterwarnings('ignore')"
   ]
  },
  {
   "cell_type": "markdown",
   "metadata": {
    "id": "9SyQadB9iY8R"
   },
   "source": [
    "### 1. Load the dataset"
   ]
  },
  {
   "cell_type": "code",
   "execution_count": null,
   "metadata": {
    "id": "MQCvC_XjDzyH"
   },
   "outputs": [],
   "source": [
    "# Load files into a pandas dataframe\n",
    "train = pd.read_csv('Train.csv')\n",
    "test = pd.read_csv('Test.csv')\n",
    "ss = pd.read_csv('SampleSubmission.csv')\n",
    "variables = pd.read_csv('VariableDefinitions.csv')"
   ]
  },
  {
   "cell_type": "code",
   "execution_count": null,
   "metadata": {
    "colab": {
     "base_uri": "https://localhost:8080/"
    },
    "id": "O6xUUoJMaRrc",
    "outputId": "37fa6d78-0297-4468-85e2-68e658ab6d7b"
   },
   "outputs": [],
   "source": [
    "# Let’s observe the shape of our datasets.\n",
    "print('train data shape :', train.shape)\n",
    "print('test data shape :', test.shape)"
   ]
  },
  {
   "cell_type": "markdown",
   "metadata": {
    "id": "22JNEkmQbMvR"
   },
   "source": [
    "The above output shows the number of rows and columns for train and test dataset. We have 13 variables in the train dataset, 12 independent variables and 1 dependent variable. In the test dataset, we have 12 independent variables.\n",
    "\n",
    "We can observe the first five rows from our data set by using the head() method from the pandas library."
   ]
  },
  {
   "cell_type": "code",
   "execution_count": null,
   "metadata": {
    "colab": {
     "base_uri": "https://localhost:8080/",
     "height": 330
    },
    "id": "0p3FUgRYasI-",
    "outputId": "74d606e0-a4d3-47a7-c1f2-249bff16639e"
   },
   "outputs": [],
   "source": [
    "# inspect train data\n",
    "train.head()"
   ]
  },
  {
   "cell_type": "code",
   "execution_count": null,
   "metadata": {
    "colab": {
     "base_uri": "https://localhost:8080/"
    },
    "id": "R1T_QbjNj0Dq",
    "outputId": "4f65aae1-c7d4-4546-ce33-15d40dd45585"
   },
   "outputs": [],
   "source": [
    "# Check for missing values\n",
    "print('missing values:', train.isnull().sum())"
   ]
  },
  {
   "cell_type": "markdown",
   "metadata": {
    "id": "ID5N0vHTj3-F"
   },
   "source": [
    "We don't have missing data in our dataset.\n",
    "\n"
   ]
  },
  {
   "cell_type": "code",
   "execution_count": null,
   "metadata": {
    "colab": {
     "base_uri": "https://localhost:8080/",
     "height": 386
    },
    "id": "QW4mlprHj-Ir",
    "outputId": "6089fa03-6eb3-4117-f694-b4b901bd57c0"
   },
   "outputs": [],
   "source": [
    "# Explore Target distribution \n",
    "sns.catplot(x=\"bank_account\", kind=\"count\", data=train)"
   ]
  },
  {
   "cell_type": "markdown",
   "metadata": {
    "id": "W0sPGiOnbTnh"
   },
   "source": [
    "It is important to understand the meaning of each feature so you can really understand the dataset. You can read the VariableDefinition.csv file to understand the meaning of each variable presented in the dataset.\n",
    "\n",
    "The SampleSubmission.csv gives us an example of how our submission file should look. This file will contain the uniqueid column combined with the country name from the Test.csv file and the target we predict with our model. Once we have created this file, we will submit it to the competition page and obtain a position on the leaderboard.\n"
   ]
  },
  {
   "cell_type": "code",
   "execution_count": null,
   "metadata": {
    "colab": {
     "base_uri": "https://localhost:8080/",
     "height": 206
    },
    "id": "dPjsaC0_a0qY",
    "outputId": "999100c2-5e84-42df-a3d9-4bbf99a9dd4a"
   },
   "outputs": [],
   "source": [
    "# view the submission file\n",
    "ss.head()"
   ]
  },
  {
   "cell_type": "markdown",
   "metadata": {
    "id": "MCP0H7tSicUU"
   },
   "source": [
    "### 2. Understand the dataset\n",
    "We can get more information about the features presented by using the info() method from pandas.\n"
   ]
  },
  {
   "cell_type": "code",
   "execution_count": null,
   "metadata": {
    "colab": {
     "base_uri": "https://localhost:8080/"
    },
    "id": "1otwZnE8bGns",
    "outputId": "d1761519-086f-4ffc-9f2e-e968611fe91c"
   },
   "outputs": [],
   "source": [
    " #show some information about the dataset\n",
    " print(train.info())"
   ]
  },
  {
   "cell_type": "markdown",
   "metadata": {
    "id": "8UOB8QG_bi_B"
   },
   "source": [
    "The output shows the list of variables/features, sizes, if it contains missing values and data type for each variable. From the dataset, we don’t have any missing values and we have 3 features of integer data type and 10 features of the object data type.\n",
    "\n",
    "If you want to learn how to handle missing data in your dataset, we recommend you read How to [Handle Missing Data with Python](https://machinelearningmastery.com/handle-missing-data-python/) by Jason Brownlee.\n",
    "\n",
    "We won’t go further on understanding the dataset because Davis has already published an article about exploratory data analysis (EDA) with the financial Inclusion in Africa dataset. You can read and download the notebook for EDA in the link below.\n",
    "\n",
    "[Why you need to explore your data and how you can start](https://https://medium.com/analytics-vidhya/why-you-need-to-explore-your-data-how-you-can-start-13de6f29c8c1)"
   ]
  },
  {
   "cell_type": "code",
   "execution_count": null,
   "metadata": {
    "colab": {
     "base_uri": "https://localhost:8080/",
     "height": 426
    },
    "id": "8D-b3rTKAbmq",
    "outputId": "67891a87-702a-419a-8fd5-0f74fed96c36"
   },
   "outputs": [],
   "source": [
    "# Let's view the variables\n",
    "variables"
   ]
  },
  {
   "cell_type": "markdown",
   "metadata": {
    "id": "wK0NuOEOcAmC"
   },
   "source": [
    "### 3. Data preparation for machine learning\n",
    "Before you train the model for prediction, you need to perform data [cleaning](https://www.dataquest.io/blog/machine-learning-preparing-data/) and [preprocessing](https://towardsdatascience.com/data-preprocessing-concepts-fa946d11c825). This is a very important step; your model will not perform well without these steps.\n",
    "\n",
    "![48f91a8a-d9c4-4853-ab32-ccb9f143a238.png](data:image/png;base64,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)\n",
    "\n",
    "The first step is to separate the independent variables and target(bank_account) from the train data. Then transform the target values from the object data type into numerical by using [LabelEncoder](https://towardsdatascience.com/categorical-encoding-using-label-encoding-and-one-hot-encoder-911ef77fb5bd).\n"
   ]
  },
  {
   "cell_type": "code",
   "execution_count": null,
   "metadata": {
    "colab": {
     "base_uri": "https://localhost:8080/"
    },
    "id": "KDu51_TBceft",
    "outputId": "bc1a4302-34e9-4107-8a69-00d59e1f77d4"
   },
   "outputs": [],
   "source": [
    "#import preprocessing module\n",
    "from sklearn.preprocessing import LabelEncoder\n",
    "from sklearn.preprocessing import MinMaxScaler\n",
    "\n",
    "# Cobvert target label to numerical Data\n",
    "le = LabelEncoder()\n",
    "train['bank_account'] = le.fit_transform(train['bank_account'])\n",
    "\n",
    "#Separate training features from target\n",
    "X_train = train.drop(['bank_account'], axis=1)\n",
    "y_train = train['bank_account']\n",
    "\n",
    "print(y_train)"
   ]
  },
  {
   "cell_type": "markdown",
   "metadata": {
    "id": "Dance7rnc2a1"
   },
   "source": [
    "The target values have been transformed into numerical datatypes, **1** represents **‘Yes’** and **0** represents **‘No’**.\n",
    "\n",
    "We have created a simple preprocessing function to:\n",
    "\n",
    "*   Handle conversion of data types\n",
    "*   Convert categorical features to numerical features by using [One-hot Encoder and Label Encoder](https://towardsdatascience.com/categorical-encoding-using-label-encoding-and-one-hot-encoder-911ef77fb5bd)\n",
    "*   Drop uniqueid variable\n",
    "*   Perform [feature scaling](https://towardsdatascience.com/preprocessing-with-sklearn-a-complete-and-comprehensive-guide-670cb98fcfb9).\n",
    "\n",
    "The processing function will be used for both train and test independent variables."
   ]
  },
  {
   "cell_type": "code",
   "execution_count": null,
   "metadata": {
    "id": "5nLXAW5hdYOk"
   },
   "outputs": [],
   "source": [
    "# function to preprocess our data from train models\n",
    "def preprocessing_data(data):\n",
    "\n",
    "    # Convert the following numerical labels from interger to float\n",
    "    float_array = data[[\"household_size\", \"age_of_respondent\", \"year\"]].values.astype(float)\n",
    "    \n",
    "    # categorical features to be onverted to One Hot Encoding\n",
    "    categ = [\"relationship_with_head\",\n",
    "             \"marital_status\",\n",
    "             \"education_level\",\n",
    "             \"job_type\",\n",
    "             \"country\"]\n",
    "    \n",
    "    # One Hot Encoding conversion\n",
    "    data = pd.get_dummies(data, prefix_sep=\"_\", columns=categ)\n",
    "    \n",
    "    # Label Encoder conversion\n",
    "    data[\"location_type\"] = le.fit_transform(data[\"location_type\"])\n",
    "    data[\"cellphone_access\"] = le.fit_transform(data[\"cellphone_access\"])\n",
    "    data[\"gender_of_respondent\"] = le.fit_transform(data[\"gender_of_respondent\"])\n",
    "    \n",
    "    # drop uniquid column\n",
    "    data = data.drop([\"uniqueid\"], axis=1)\n",
    "    \n",
    "    # scale our data into range of 0 and 1\n",
    "    scaler = MinMaxScaler(feature_range=(0, 1))\n",
    "    data = scaler.fit_transform(data)\n",
    "    \n",
    "    return data                  "
   ]
  },
  {
   "cell_type": "markdown",
   "metadata": {
    "id": "0ecEbBCgdeKC"
   },
   "source": [
    "Preprocess both train and test dataset."
   ]
  },
  {
   "cell_type": "code",
   "execution_count": null,
   "metadata": {
    "id": "eNdoBGhgdYdQ"
   },
   "outputs": [],
   "source": [
    "# preprocess the train data \n",
    "processed_train = preprocessing_data(X_train)\n",
    "processed_test = preprocessing_data(test)"
   ]
  },
  {
   "cell_type": "markdown",
   "metadata": {
    "id": "sxD8v8T6dhxp"
   },
   "source": [
    "Observe the first row in the train data."
   ]
  },
  {
   "cell_type": "code",
   "execution_count": null,
   "metadata": {
    "colab": {
     "base_uri": "https://localhost:8080/"
    },
    "id": "oZxvcf4DdYld",
    "outputId": "a9d357ef-a139-4a83-a081-60c21e912bc6"
   },
   "outputs": [],
   "source": [
    "# the first train row\n",
    "print(processed_train[:1])"
   ]
  },
  {
   "cell_type": "markdown",
   "metadata": {
    "id": "5X7hwM0NdlVB"
   },
   "source": [
    "Observe the shape of the train data."
   ]
  },
  {
   "cell_type": "code",
   "execution_count": null,
   "metadata": {
    "colab": {
     "base_uri": "https://localhost:8080/"
    },
    "id": "hwZVZ4cGdmTP",
    "outputId": "15e18896-281a-4dcc-9b07-b85da0757322"
   },
   "outputs": [],
   "source": [
    "# shape of the processed train set\n",
    "print(processed_train.shape)"
   ]
  },
  {
   "cell_type": "markdown",
   "metadata": {
    "id": "HwHinDPjds1S"
   },
   "source": [
    "Now we have more independent variables than before (37 variables). This doesn’t mean all these variables are important to train our model. You need to select only important features that can increase the performance of the model. But we will not apply any feature selection technique in this article; if you want to learn and know more about feature selection techniques, we recommend you read the following articles:\n",
    "\n",
    "\n",
    "*    [Introduction to Feature Selection methods with an example (or how to select the right variables?)](https://https://www.analyticsvidhya.com/blog/2016/12/introduction-to-feature-selection-methods-with-an-example-or-how-to-select-the-right-variables/)\n",
    "*   [The 5 Feature Selection Algorithms every Data Scientist should know](https://towardsdatascience.com/the-5-feature-selection-algorithms-every-data-scientist-need-to-know-3a6b566efd2)\n",
    "*   [How to Choose a Feature Selection Method For Machine Learning](https://machinelearningmastery.com/feature-selection-with-real-and-categorical-data/)\n",
    "*   [Feature Selection Techniques in Machine Learning with Python](https://towardsdatascience.com/feature-selection-techniques-in-machine-learning-with-python-f24e7da3f36e)"
   ]
  },
  {
   "cell_type": "markdown",
   "metadata": {
    "id": "RmPQteHwk4hS"
   },
   "source": [
    "###4. Model Building and Experiments\n",
    "A portion of the train data set will be used to evaluate our models and find the best one that performs well before using it in the test dataset.\n"
   ]
  },
  {
   "cell_type": "code",
   "execution_count": null,
   "metadata": {
    "id": "2MSEu48clFhH"
   },
   "outputs": [],
   "source": [
    "import sklearn.model_selection"
   ]
  },
  {
   "cell_type": "code",
   "execution_count": null,
   "metadata": {
    "id": "6HXDwTMtlB8-"
   },
   "outputs": [],
   "source": [
    "# Split train_data\n",
    "from sklearn.model_selection import train_test_split\n",
    "\n",
    "X_Train, X_Val, y_Train, y_val = train_test_split(processed_train, y_train, stratify = y_train, \n",
    "                                                  test_size = 0.1, random_state=42)"
   ]
  },
  {
   "cell_type": "markdown",
   "metadata": {
    "id": "u1ZVFNKRlmfg"
   },
   "source": [
    "Only 10% of the train dataset will be used for evaluating the models. The parameter stratify = y_train will ensure an equal balance of values from both classes (‘yes’ and ‘no’) for both train and validation set.\n",
    "\n",
    "There are many models to choose from such as \n",
    "\n",
    "*   [K Nearest Neighbors](https://www.datacamp.com/community/tutorials/k-nearest-neighbor-classification-scikit-learn)\n",
    "*   [Logistic Regression](https://machinelearningmastery.com/logistic-regression-tutorial-for-machine-learning/)\n",
    "*   [Random Forest](https://www.datacamp.com/community/tutorials/random-forests-classifier-python)\n",
    "\n",
    "We will be using [**XGBoost**](https://www.datacamp.com/community/tutorials/xgboost-in-python). \n",
    "\n",
    "We will start by training these models using the train set after splitting our train dataset."
   ]
  },
  {
   "cell_type": "code",
   "execution_count": null,
   "metadata": {
    "colab": {
     "base_uri": "https://localhost:8080/"
    },
    "id": "Kt1ZHUbwmY_t",
    "outputId": "f277a505-89fd-4a23-a3cb-40ef32664744"
   },
   "outputs": [],
   "source": [
    "#import classifier algorithm here\n",
    "from xgboost import XGBClassifier\n",
    "\n",
    "# create models\n",
    "xg_model = XGBClassifier()\n",
    "\n",
    "#fitting the models\n",
    "xg_model.fit(X_Train,y_Train)"
   ]
  },
  {
   "cell_type": "markdown",
   "metadata": {
    "id": "Ewpi1qC8mmwM"
   },
   "source": [
    "The evaluation metric for this challenge will be the percentage of survey respondents for whom you predict the binary 'bank account' classification incorrectly.\n",
    "\n",
    "This means the **lower** the incorrect percentage we get, the better the model performance."
   ]
  },
  {
   "cell_type": "code",
   "execution_count": null,
   "metadata": {
    "colab": {
     "base_uri": "https://localhost:8080/"
    },
    "id": "Z_DtQ0CpmZCT",
    "outputId": "7f20aa72-8af2-4e0c-ceaf-94aefdf7f73a"
   },
   "outputs": [],
   "source": [
    "# import evaluation metrics\n",
    "from sklearn.metrics import confusion_matrix, accuracy_score\n",
    "\n",
    "# evaluate the model\n",
    "xg_y_model = xg_model.predict(X_Val)\n",
    "\n",
    "# Get error rate\n",
    "print(\"Error rate of XGB classifier: \", 1 - accuracy_score(y_val, xg_y_model))"
   ]
  },
  {
   "cell_type": "markdown",
   "metadata": {
    "id": "7a-L-kYDpKEN"
   },
   "source": [
    "Let’s check the confusion matrix for XGB model."
   ]
  },
  {
   "cell_type": "code",
   "execution_count": null,
   "metadata": {
    "colab": {
     "base_uri": "https://localhost:8080/",
     "height": 296
    },
    "id": "tC0-6GEFmZE1",
    "outputId": "83fedcd0-dc81-46f1-a9f2-2442ea03d6b6"
   },
   "outputs": [],
   "source": [
    "from sklearn.metrics import plot_confusion_matrix\n",
    "\n",
    "# Get confusion matrix for Gradient Boosting Classifier\n",
    "plot_confusion_matrix(xg_model,X_Val, y_val,normalize='true')"
   ]
  },
  {
   "cell_type": "markdown",
   "metadata": {
    "id": "sXh7X5JCpXUu"
   },
   "source": [
    "Our XGBoost model performs well on predicting **class 0** and performs poorly on predicting **class 1**, it may be caused by the imbalance of data provided(the target variable has more ‘No’ values than ‘Yes’ values). You can learn the best way to deal with imbalanced data here.\n",
    "\n",
    "One way to increase the model performance is by applying the Grid search method as an approach to parameter tuning that will methodically build and evaluate a model for each combination of algorithm parameters specified in a grid. You can skip this cell if you would like. "
   ]
  },
  {
   "cell_type": "code",
   "execution_count": null,
   "metadata": {
    "colab": {
     "base_uri": "https://localhost:8080/"
    },
    "id": "5I4ycJmWpWm8",
    "outputId": "59f41451-12a0-4af3-9952-cc0e1d7f4419"
   },
   "outputs": [],
   "source": [
    "# Import GridSearchCV\n",
    "from sklearn.model_selection import GridSearchCV\n",
    "\n",
    "# Optimize model parameters\n",
    "# I run this code in google colab to make the execution much faster and use the best params in the next code\n",
    "param_grid = {'min_child_weighth': [1, 5, 10],\n",
    "        'gamma': [0.5, 1],\n",
    "        'subsample': [0.6, 0.8, 1.0],\n",
    "        'max_depth': [3, 5]\n",
    "        }\n",
    "my_xgb_model = GridSearchCV(xg_model, param_grid,n_jobs=-1,verbose=2,cv=5)\n",
    "my_xgb_model.fit(X_Train, y_Train)\n",
    "print(my_xgb_model.best_params_)        "
   ]
  },
  {
   "cell_type": "markdown",
   "metadata": {
    "id": "mOlYn399p2eQ"
   },
   "source": [
    "The above source code will evaluate which parameter values for min_child_weight, gamma, subsample and max_depth will give us better performance.\n",
    "\n",
    "Let’s use these parameter values and see if the XGB model performance will increase."
   ]
  },
  {
   "cell_type": "code",
   "execution_count": null,
   "metadata": {
    "colab": {
     "base_uri": "https://localhost:8080/"
    },
    "id": "ngV3CPnHp5ex",
    "outputId": "d3a87838-3b97-4e8e-8d72-65ea0a15c4b4"
   },
   "outputs": [],
   "source": [
    "from sklearn.metrics import confusion_matrix, accuracy_score\n",
    "\n",
    "# fit by setting best parameters and Evaluate model\n",
    "xgb_model = XGBClassifier(min_child_weight=1, gamma=1, subsample=0.8, max_depth=5)\n",
    "\n",
    "xgb_model.fit(X_Train, y_Train)\n",
    "y_pred = xgb_model.predict(X_Val)\n",
    "\n",
    "# Get error rate\n",
    "print(\"Error rate of the XGB classifier: \", 1 - accuracy_score(y_val, y_pred))"
   ]
  },
  {
   "cell_type": "markdown",
   "metadata": {
    "id": "qxBlGOe4p9y0"
   },
   "source": [
    "Our XGB model has improved from the previous performance of **0.110** to **0.108**.\n"
   ]
  },
  {
   "cell_type": "markdown",
   "metadata": {
    "id": "qzas-YyFqCmU"
   },
   "source": [
    "###5. Making the first submission\n",
    "After improving the XGBoost model performance, let’s now see how the model performs on the competition test data set provided and how we rank on the competition leaderboard.\n",
    "\n",
    "First, we make predictions on the competition test data set."
   ]
  },
  {
   "cell_type": "code",
   "execution_count": null,
   "metadata": {
    "id": "bvkSRJNUqMCq"
   },
   "outputs": [],
   "source": [
    "# Get the predicted result for the test Data\n",
    "test.bank_account = xgb_model.predict(processed_test)"
   ]
  },
  {
   "cell_type": "markdown",
   "metadata": {
    "id": "VmzWR6qnqQlG"
   },
   "source": [
    "Then we create a submission file according to the instruction provided in the SubmissionFile.csv.\n"
   ]
  },
  {
   "cell_type": "code",
   "execution_count": null,
   "metadata": {
    "id": "ELYl_OMUqRhR"
   },
   "outputs": [],
   "source": [
    "# Create submission DataFrame\n",
    "submission = pd.DataFrame({\"uniqueid\": test[\"uniqueid\"] + \" x \" + test[\"country\"],\n",
    "                           \"bank_account\": test.bank_account})"
   ]
  },
  {
   "cell_type": "markdown",
   "metadata": {
    "id": "KWsK-dHOqcIB"
   },
   "source": [
    "Let’s observe the sample results from our submission DataFrame.\n"
   ]
  },
  {
   "cell_type": "code",
   "execution_count": null,
   "metadata": {
    "colab": {
     "base_uri": "https://localhost:8080/",
     "height": 206
    },
    "id": "VHhKw7ceqdD2",
    "outputId": "90eb4eab-a985-485a-98df-5f8aa8a19851"
   },
   "outputs": [],
   "source": [
    "#show the five sample\n",
    "submission.sample(5)"
   ]
  },
  {
   "cell_type": "markdown",
   "metadata": {
    "id": "CcOeN6Nkqkkw"
   },
   "source": [
    "Save results in the CSV file.\n"
   ]
  },
  {
   "cell_type": "code",
   "execution_count": null,
   "metadata": {
    "colab": {
     "base_uri": "https://localhost:8080/",
     "height": 17
    },
    "id": "FzEYLNpDqjL-",
    "outputId": "1d37b510-2845-4ada-82d4-aeff7c8b1973"
   },
   "outputs": [],
   "source": [
    "# Create submission csv file csv file\n",
    "submission.to_csv('first_submission.csv', index = False)\n",
    "files.download('first_submission.csv') "
   ]
  },
  {
   "cell_type": "markdown",
   "metadata": {
    "id": "NRs4uapdqsQu"
   },
   "source": [
    "We named our submission file a **first_submission.csv**. Now we can upload it to the Zindi competition page by clicking the submit button and selecting the file to upload., You also have an option to add comments for each submission."
   ]
  },
  {
   "cell_type": "markdown",
   "metadata": {
    "id": "ttQqWBi722zE"
   },
   "source": [
    "###More Tips\n",
    "- Thorough EDA and domain knowledge sourcing\n",
    "- Re-group Categorical features \n",
    "- More Feature Engineering \n",
    "- Dataset balancing - oversampling, undersampling, SMOTE...\n",
    "- Ensembling of models \n",
    "- Cross-validation: Group folds, Stratified..."
   ]
  },
  {
   "cell_type": "markdown",
   "metadata": {
    "id": "uXftXbo622zF"
   },
   "source": [
    "# ******************* GOOD LUCK!!! ***************************"
   ]
  }
 ],
 "metadata": {
  "colab": {
   "collapsed_sections": [],
   "name": "StarterNotebook.ipynb",
   "provenance": [],
   "toc_visible": true
  },
  "kernelspec": {
   "display_name": "Python 3 (ipykernel)",
   "language": "python",
   "name": "python3"
  },
  "language_info": {
   "codemirror_mode": {
    "name": "ipython",
    "version": 3
   },
   "file_extension": ".py",
   "mimetype": "text/x-python",
   "name": "python",
   "nbconvert_exporter": "python",
   "pygments_lexer": "ipython3",
   "version": "3.9.12"
  }
 },
 "nbformat": 4,
 "nbformat_minor": 1
}
